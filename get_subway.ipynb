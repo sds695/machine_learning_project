{
 "cells": [
  {
   "cell_type": "code",
   "execution_count": 5,
   "metadata": {},
   "outputs": [],
   "source": [
    "import zipfile\n",
    "from urllib.request import urlretrieve\n",
    "from urllib.parse import urlsplit\n",
    "import os\n",
    "from zipfile import BadZipfile\n",
    "from libarchive import extract"
   ]
  },
  {
   "cell_type": "code",
   "execution_count": 11,
   "metadata": {},
   "outputs": [
    {
     "data": {
      "text/plain": [
       "'/Users/twwwy/Desktop/MLC_project/Data'"
      ]
     },
     "execution_count": 11,
     "metadata": {},
     "output_type": "execute_result"
    }
   ],
   "source": [
    "os.getcwd() + '/Data'"
   ]
  },
  {
   "cell_type": "code",
   "execution_count": 12,
   "metadata": {},
   "outputs": [],
   "source": [
    "#dp = r\"/Users/sunghoonyang/Google Drive/Spring 2019/CUSP-GX5006/MLC Final Project/dat\"\n",
    "dp = os.getcwd() + '/Data'\n",
    "tp_hr_201701 = r\"https://data.taipei/api/getDatasetInfo/downloadResource?id=63f31c7e-7fc3-418b-bd82-b95158755b4d&rid=d4d40fb4-4d05-4877-8fcc-8b098e89078c\"\n",
    "tp_hr_201702 = r\"https://data.taipei/api/getDatasetInfo/downloadResource?id=63f31c7e-7fc3-418b-bd82-b95158755b4d&rid=37747565-1815-47aa-b654-5da195c3d0f7\"\n",
    "tp_hr_201703 = r\"https://data.taipei/api/getDatasetInfo/downloadResource?id=63f31c7e-7fc3-418b-bd82-b95158755b4d&rid=a8bfef2d-3110-4fcb-8c61-38df34f766e5\"\n",
    "tp_hr_201704 = r\"https://data.taipei/api/getDatasetInfo/downloadResource?id=63f31c7e-7fc3-418b-bd82-b95158755b4d&rid=fcc2fd06-f611-47c7-9dbb-24c9331b4eb7\"\n",
    "tp_hr_201705 = r\"https://data.taipei/api/getDatasetInfo/downloadResource?id=63f31c7e-7fc3-418b-bd82-b95158755b4d&rid=ab7a231f-7116-4934-9fc7-bdd2ca7c882c\"\n",
    "tp_hr_201706 = r\"https://data.taipei/api/getDatasetInfo/downloadResource?id=63f31c7e-7fc3-418b-bd82-b95158755b4d&rid=5d3e8601-1214-4ba3-b079-c4b3ea6858c2\"\n",
    "tp_hr_201707 = r\"https://data.taipei/api/getDatasetInfo/downloadResource?id=63f31c7e-7fc3-418b-bd82-b95158755b4d&rid=f95f98b5-fd26-44bb-959b-f57548bf0a95\"\n",
    "tp_hr_201708 = r\"https://data.taipei/api/getDatasetInfo/downloadResource?id=63f31c7e-7fc3-418b-bd82-b95158755b4d&rid=a1bae0b9-3c3e-48ae-9373-bdf91ee87b95\"\n",
    "tp_hr_201709 = r\"https://data.taipei/api/getDatasetInfo/downloadResource?id=63f31c7e-7fc3-418b-bd82-b95158755b4d&rid=182feda8-ca00-4e48-a0c7-57fc48c3b60e\"\n",
    "tp_hr_201710 = r\"https://data.taipei/api/getDatasetInfo/downloadResource?id=63f31c7e-7fc3-418b-bd82-b95158755b4d&rid=5a6ff10c-71a0-4f85-9a40-4999b0570016\"\n",
    "tp_hr_201711 = r\"https://data.taipei/api/getDatasetInfo/downloadResource?id=63f31c7e-7fc3-418b-bd82-b95158755b4d&rid=c649302d-6da6-4cd2-8dd4-68a94758947d\"\n",
    "tp_hr_201712 = r\"https://data.taipei/api/getDatasetInfo/downloadResource?id=63f31c7e-7fc3-418b-bd82-b95158755b4d&rid=790be389-4534-46ac-9ecd-f903e48b3f95\"\n",
    "tp_hr_201801 = r\"https://data.taipei/api/getDatasetInfo/downloadResource?id=63f31c7e-7fc3-418b-bd82-b95158755b4d&rid=fd036b1c-7687-41c6-ba48-1203e6a1bfd8\"\n",
    "tp_hr_201802 = r\"https://data.taipei/api/getDatasetInfo/downloadResource?id=63f31c7e-7fc3-418b-bd82-b95158755b4d&rid=fe084b86-5c37-44a6-ace0-b2b67811aff2\"\n",
    "tp_hr_201803 = r\"https://data.taipei/api/getDatasetInfo/downloadResource?id=63f31c7e-7fc3-418b-bd82-b95158755b4d&rid=a9c2548e-a2e6-4bf2-a3f3-4bf7ee31b55d\"\n",
    "tp_hr_201804 = r\"https://data.taipei/api/getDatasetInfo/downloadResource?id=63f31c7e-7fc3-418b-bd82-b95158755b4d&rid=a3828fb0-9332-48bc-9755-01726640ef7d\"\n",
    "tp_hr_201805 = r\"https://data.taipei/api/getDatasetInfo/downloadResource?id=63f31c7e-7fc3-418b-bd82-b95158755b4d&rid=7cce9c0d-cc06-423f-9dca-99a911518eac\"\n",
    "tp_hr_201806 = r\"https://data.taipei/api/getDatasetInfo/downloadResource?id=63f31c7e-7fc3-418b-bd82-b95158755b4d&rid=8398519a-602f-44a7-9a58-3535c5136d4d\"\n",
    "tp_hr_201807 = r\"https://data.taipei/api/getDatasetInfo/downloadResource?id=63f31c7e-7fc3-418b-bd82-b95158755b4d&rid=75b9cc6c-f3f7-4d28-9edd-2d5d79719543\"\n",
    "tp_hr_201808 = r\"https://data.taipei/api/getDatasetInfo/downloadResource?id=63f31c7e-7fc3-418b-bd82-b95158755b4d&rid=e295453e-4dc3-470c-9259-92ab6d48a5dc\"\n",
    "tp_hr_201809 = r\"https://data.taipei/api/getDatasetInfo/downloadResource?id=63f31c7e-7fc3-418b-bd82-b95158755b4d&rid=ec1d79e3-7055-44bb-bbec-c3e73bcac153\"\n",
    "tp_hr_201810 = r\"https://data.taipei/api/getDatasetInfo/downloadResource?id=63f31c7e-7fc3-418b-bd82-b95158755b4d&rid=fb243f12-e5a7-4d0e-9c09-238294b7cc65\"\n",
    "tp_hr_201811 = r\"https://data.taipei/api/getDatasetInfo/downloadResource?id=63f31c7e-7fc3-418b-bd82-b95158755b4d&rid=4c5b2a10-2c44-4333-a4d7-e3f412900444\"\n",
    "tp_hr_201812 = r\"https://data.taipei/api/getDatasetInfo/downloadResource?id=63f31c7e-7fc3-418b-bd82-b95158755b4d&rid=be9fcdea-6d93-43b0-8699-ecaa00a4db53\"\n",
    "tp_hr_201901 = r\"https://data.taipei/api/getDatasetInfo/downloadResource?id=63f31c7e-7fc3-418b-bd82-b95158755b4d&rid=0b09eeac-cb97-49e8-aee0-53e0793856bf\"\n",
    "tp_hr_201902 = r\"https://data.taipei/api/getDatasetInfo/downloadResource?id=63f31c7e-7fc3-418b-bd82-b95158755b4d&rid=6f60ab5d-5fa6-4859-a27e-c9f6309f1364\""
   ]
  },
  {
   "cell_type": "code",
   "execution_count": 109,
   "metadata": {},
   "outputs": [
    {
     "name": "stdout",
     "output_type": "stream",
     "text": [
      "file exists: 201701.csv\n",
      "file exists: 201702.csv\n",
      "file exists: 201703.csv\n",
      "file exists: 201704.csv\n",
      "file exists: 201705.csv\n",
      "file exists: 201706.csv\n",
      "file exists: 201707.csv\n",
      "file exists: 201708.csv\n",
      "file exists: 201709.csv\n",
      "file exists: 201710.csv\n",
      "file exists: 201711.csv\n",
      "file exists: 201712.csv\n",
      "file exists: 201801.csv\n",
      "file exists: 201802.csv\n",
      "file exists: 201803.csv\n",
      "file exists: 201804.7z\n",
      "file exists: 201805.zip\n",
      "rename to 201805.7z\n",
      "downloading 201806.zip\n",
      "rename to 201806.7z\n",
      "downloading 201807.zip\n",
      "rename to 201807.7z\n",
      "downloading 201808.zip\n",
      "rename to 201808.7z\n",
      "downloading 201809.zip\n",
      "rename to 201809.7z\n",
      "downloading 201810.zip\n",
      "rename to 201810.7z\n",
      "downloading 201811.zip\n",
      "rename to 201811.7z\n",
      "downloading 201812.zip\n",
      "rename to 201812.7z\n",
      "downloading 201901.zip\n",
      "rename to 201901.7z\n",
      "downloading 201902.zip\n",
      "rename to 201902.7z\n"
     ]
    }
   ],
   "source": [
    "for url in [\"tp_hr_201701\",\"tp_hr_201702\",\"tp_hr_201703\",\"tp_hr_201704\",\"tp_hr_201705\",\n",
    "            \"tp_hr_201706\",\"tp_hr_201707\",\"tp_hr_201708\",\"tp_hr_201709\",\"tp_hr_201710\",\n",
    "            \"tp_hr_201711\",\"tp_hr_201712\",\"tp_hr_201801\",\"tp_hr_201802\",\"tp_hr_201803\",\n",
    "            \"tp_hr_201804\",\"tp_hr_201805\",\"tp_hr_201806\",\"tp_hr_201807\",\"tp_hr_201808\",\n",
    "            \"tp_hr_201809\",\"tp_hr_201810\",\"tp_hr_201811\",\"tp_hr_201812\",\"tp_hr_201901\",\n",
    "            \"tp_hr_201902\"]:\n",
    "    if os.path.exists(dp + '/' +'%s.csv' % url[-6:]):\n",
    "        print('file exists: ' + '%s.csv' % url[-6:])\n",
    "        continue\n",
    "    else:\n",
    "        if os.path.exists(dp + '/' +'%s.zip' % url[-6:]):\n",
    "            print('file exists: ' + '%s.zip' % url[-6:])\n",
    "        elif os.path.exists(dp + '/' +'%s.7z' % url[-6:]):\n",
    "            print('file exists: ' + '%s.7z' % url[-6:])\n",
    "            continue\n",
    "        else:\n",
    "            print('downloading ' + '%s.zip' % url[-6:])\n",
    "            fp = os.path.join(dp, '%s.zip' % url[-6:])\n",
    "            urlretrieve(eval(url), fp)\n",
    "        try:\n",
    "            with zipfile.ZipFile(fp, 'r') as zip_ref:\n",
    "                zip_ref.extractall(dp)\n",
    "                zip_ref.close()\n",
    "                if len(zip_ref.namelist()) > 1:\n",
    "                    print('zip_ref.namelist() > 1')\n",
    "                    os.rename(dp + '/' + zip_ref.namelist()[0] \n",
    "                              + zip_ref.namelist()[1], dp + '/' \n",
    "                              + zip_ref.namelist()[1][-10:])\n",
    "                else:\n",
    "                    os.rename(dp + '/' + zip_ref.namelist()[0], \n",
    "                              dp + '/' + zip_ref.namelist()[0][-10:])\n",
    "                    os.remove('%s.zip' % url[-6:])\n",
    "                print('...done!')\n",
    "        except:\n",
    "            print('rename to ' + '%s.7z' % url[-6:])\n",
    "            fp_7z = os.path.join(dp, '%s.7z' % url[-6:])\n",
    "            os.rename(fp, fp_7z)\n",
    "            #unzip 7z file\n",
    "            extract.extract_file(fp_7z)\n",
    "            os.rename(dp + '/' + '臺北捷運每日分時各站OD流量統計資料_' \n",
    "                      + '%s.csv' % url[-6:], dp + '/' + '%s.csv' % url[-6:])\n",
    "            os.remove('%s.7z' % url[-6:])\n",
    "            print('done')"
   ]
  },
  {
   "cell_type": "code",
   "execution_count": 7,
   "metadata": {},
   "outputs": [],
   "source": [
    "extract.extract_file('Data/201902.7z')"
   ]
  },
  {
   "cell_type": "code",
   "execution_count": null,
   "metadata": {},
   "outputs": [],
   "source": []
  }
 ],
 "metadata": {
  "kernelspec": {
   "display_name": "Python 2",
   "language": "python",
   "name": "python2"
  },
  "language_info": {
   "codemirror_mode": {
    "name": "ipython",
    "version": 2
   },
   "file_extension": ".py",
   "mimetype": "text/x-python",
   "name": "python",
   "nbconvert_exporter": "python",
   "pygments_lexer": "ipython2",
   "version": "2.7.15"
  }
 },
 "nbformat": 4,
 "nbformat_minor": 2
}
